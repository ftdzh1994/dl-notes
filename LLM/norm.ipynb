{
 "cells": [
  {
   "cell_type": "code",
   "execution_count": null,
   "metadata": {},
   "outputs": [],
   "source": [
    "import torch\n",
    "import torch.nn as nn\n",
    "import torch.nn.functional as F\n",
    "import math"
   ]
  },
  {
   "cell_type": "markdown",
   "metadata": {},
   "source": [
    "### LayerNorm"
   ]
  },
  {
   "cell_type": "code",
   "execution_count": null,
   "metadata": {},
   "outputs": [],
   "source": [
    "\n",
    "class MyLayerNorm(nn.Module):\n",
    "    def __init__(self, features, eps=1e-5, elementwise_affine=True):\n",
    "        super(MyLayerNorm, self).__init__()\n",
    "        self.eps = eps\n",
    "        self.elementwise_affine = elementwise_affine\n",
    "        if elementwise_affine:\n",
    "            self.a_2 = nn.Parameter(torch.ones(features))\n",
    "            self.b_2 = nn.Parameter(torch.zeros(features))\n",
    "        else:\n",
    "            self.a_2 = torch.ones(features)\n",
    "            self.b_2 = torch.zeros(features)\n",
    "        self.reset_parameters()\n",
    "        \n",
    "    def reset_parameters(self) -> None:\n",
    "        if self.elementwise_affine:\n",
    "            nn.init.ones_(self.a_2)\n",
    "            nn.init.zeros_(self.b_2)\n",
    "    \n",
    "    \n",
    "    \n",
    "    def forward(self, x):\n",
    "        mean = x.mean(-1, keepdim=True)\n",
    "        std = x.std(-1,keepdim=True)\n",
    "        return  self.a_2 * (x - mean) / (std + self.eps) + self.b_2\n",
    "\n",
    "\n",
    "# test\n",
    "N, S, H = 2, 2, 10\n",
    "input = torch.randn(N, S, H)\n",
    "\n",
    "layer_norm_op = nn.LayerNorm([N, S, H], elementwise_affine=True) \n",
    "ln_y = layer_norm_op(input)\n",
    "\n",
    "my_layer_norm = MyLayerNorm(input.size(), elementwise_affine=True)\n",
    "verify_ln_y = my_layer_norm(input)\n",
    "\n",
    "print(ln_y)\n",
    "print(verify_ln_y)"
   ]
  }
 ],
 "metadata": {
  "language_info": {
   "name": "python"
  }
 },
 "nbformat": 4,
 "nbformat_minor": 2
}
